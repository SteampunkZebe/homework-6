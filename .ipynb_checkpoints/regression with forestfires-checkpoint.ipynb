{
 "cells": [
  {
   "cell_type": "raw",
   "metadata": {},
   "source": [
    "regression\n",
    "1 Look at the big picture.\n",
    "2 Get the data.\n",
    "3 Discover and visualize the data to gain insights.\n",
    "4 Prepare the data for Machine Learning algorithms.\n",
    "5 Select a model and train it.\n",
    "6 Fine-tune your model.\n",
    "7 Present your solution.\n",
    "8 Launch, monitor, and maintain your system.\n",
    "\n",
    "FFMC - FFMC index from the FWI system: 18.7 to 96.20 \n",
    "DMC - DMC index from the FWI system: 1.1 to 291.3 \n",
    "DC - DC index from the FWI system: 7.9 to 860.6 \n",
    "ISI - ISI index from the FWI system: 0.0 to 56.10 \n",
    "temp - temperature in Celsius degrees: 2.2 to 33.30 \n",
    "RH - relative humidity in %: 15.0 to 100 \n",
    "wind - wind speed in km/h: 0.40 to 9.40 \n",
    "rain - outside rain in mm/m2 : 0.0 to 6.4 \n",
    "area - the burned area of the forest (in ha): 0.00 to 1090.84 \n"
   ]
  },
  {
   "cell_type": "code",
   "execution_count": 104,
   "metadata": {},
   "outputs": [
    {
     "name": "stdout",
     "output_type": "stream",
     "text": [
      "     FFMC    DMC     DC   ISI  temp  RH  wind  rain   area\n",
      "0    86.2   26.2   94.3   5.1   8.2  51   6.7   0.0   0.00\n",
      "1    90.6   35.4  669.1   6.7  18.0  33   0.9   0.0   0.00\n",
      "2    90.6   43.7  686.9   6.7  14.6  33   1.3   0.0   0.00\n",
      "3    91.7   33.3   77.5   9.0   8.3  97   4.0   0.2   0.00\n",
      "4    89.3   51.3  102.2   9.6  11.4  99   1.8   0.0   0.00\n",
      "5    92.3   85.3  488.0  14.7  22.2  29   5.4   0.0   0.00\n",
      "6    92.3   88.9  495.6   8.5  24.1  27   3.1   0.0   0.00\n",
      "7    91.5  145.4  608.2  10.7   8.0  86   2.2   0.0   0.00\n",
      "8    91.0  129.5  692.6   7.0  13.1  63   5.4   0.0   0.00\n",
      "9    92.5   88.0  698.6   7.1  22.8  40   4.0   0.0   0.00\n",
      "10   92.5   88.0  698.6   7.1  17.8  51   7.2   0.0   0.00\n",
      "11   92.8   73.2  713.0  22.6  19.3  38   4.0   0.0   0.00\n",
      "12   63.5   70.8  665.3   0.8  17.0  72   6.7   0.0   0.00\n",
      "13   90.9  126.5  686.5   7.0  21.3  42   2.2   0.0   0.00\n",
      "14   92.9  133.3  699.6   9.2  26.4  21   4.5   0.0   0.00\n",
      "15   93.3  141.2  713.9  13.9  22.9  44   5.4   0.0   0.00\n",
      "16   91.7   35.8   80.8   7.8  15.1  27   5.4   0.0   0.00\n",
      "17   84.9   32.8  664.2   3.0  16.7  47   4.9   0.0   0.00\n",
      "18   89.2   27.9   70.8   6.3  15.9  35   4.0   0.0   0.00\n",
      "19   86.3   27.4   97.1   5.1   9.3  44   4.5   0.0   0.00\n",
      "20   91.0  129.5  692.6   7.0  18.3  40   2.7   0.0   0.00\n",
      "21   91.8   78.5  724.3   9.2  19.1  38   2.7   0.0   0.00\n",
      "22   94.3   96.3  200.0  56.1  21.0  44   4.5   0.0   0.00\n",
      "23   90.2  110.9  537.4   6.2  19.5  43   5.8   0.0   0.00\n",
      "24   93.5  139.4  594.2  20.3  23.7  32   5.8   0.0   0.00\n",
      "25   91.4  142.4  601.4  10.6  16.3  60   5.4   0.0   0.00\n",
      "26   92.4  117.9  668.0  12.2  19.0  34   5.8   0.0   0.00\n",
      "27   90.9  126.5  686.5   7.0  19.4  48   1.3   0.0   0.00\n",
      "28   93.4  145.4  721.4   8.1  30.2  24   2.7   0.0   0.00\n",
      "29   93.5  149.3  728.6   8.1  22.8  39   3.6   0.0   0.00\n",
      "..    ...    ...    ...   ...   ...  ..   ...   ...    ...\n",
      "487  95.1  141.3  605.8  17.7  26.4  34   3.6   0.0  16.40\n",
      "488  95.1  141.3  605.8  17.7  19.4  71   7.6   0.0  46.70\n",
      "489  95.1  141.3  605.8  17.7  20.6  58   1.3   0.0   0.00\n",
      "490  95.1  141.3  605.8  17.7  28.7  33   4.0   0.0   0.00\n",
      "491  95.8  152.0  624.1  13.8  32.4  21   4.5   0.0   0.00\n",
      "492  95.9  158.0  633.6  11.3  32.4  27   2.2   0.0   0.00\n",
      "493  95.9  158.0  633.6  11.3  27.5  29   4.5   0.0  43.32\n",
      "494  96.0  164.0  643.0  14.0  30.8  30   4.9   0.0   8.59\n",
      "495  96.2  175.5  661.8  16.8  23.9  42   2.2   0.0   0.00\n",
      "496  96.2  175.5  661.8  16.8  32.6  26   3.1   0.0   2.77\n",
      "497  96.1  181.1  671.2  14.3  32.3  27   2.2   0.0  14.68\n",
      "498  96.1  181.1  671.2  14.3  33.3  26   2.7   0.0  40.54\n",
      "499  96.1  181.1  671.2  14.3  27.3  63   4.9   6.4  10.82\n",
      "500  96.1  181.1  671.2  14.3  21.6  65   4.9   0.8   0.00\n",
      "501  96.1  181.1  671.2  14.3  21.6  65   4.9   0.8   0.00\n",
      "502  96.1  181.1  671.2  14.3  20.7  69   4.9   0.4   0.00\n",
      "503  94.5  139.4  689.1  20.0  29.2  30   4.9   0.0   1.95\n",
      "504  94.5  139.4  689.1  20.0  28.9  29   4.9   0.0  49.59\n",
      "505  91.0  163.2  744.4  10.1  26.7  35   1.8   0.0   5.80\n",
      "506  91.0  166.9  752.6   7.1  18.5  73   8.5   0.0   0.00\n",
      "507  91.0  166.9  752.6   7.1  25.9  41   3.6   0.0   0.00\n",
      "508  91.0  166.9  752.6   7.1  25.9  41   3.6   0.0   0.00\n",
      "509  91.0  166.9  752.6   7.1  21.1  71   7.6   1.4   2.17\n",
      "510  91.0  166.9  752.6   7.1  18.2  62   5.4   0.0   0.43\n",
      "511  81.6   56.7  665.6   1.9  27.8  35   2.7   0.0   0.00\n",
      "512  81.6   56.7  665.6   1.9  27.8  32   2.7   0.0   6.44\n",
      "513  81.6   56.7  665.6   1.9  21.9  71   5.8   0.0  54.29\n",
      "514  81.6   56.7  665.6   1.9  21.2  70   6.7   0.0  11.16\n",
      "515  94.4  146.0  614.7  11.3  25.6  42   4.0   0.0   0.00\n",
      "516  79.5    3.0  106.7   1.1  11.8  31   4.5   0.0   0.00\n",
      "\n",
      "[517 rows x 9 columns]\n"
     ]
    }
   ],
   "source": [
    "%matplotlib inline\n",
    "import numpy as np\n",
    "import matplotlib.pyplot as plt\n",
    "from sklearn import datasets, linear_model\n",
    "from sklearn.model_selection import train_test_split\n",
    "import pandas as pd\n",
    "import os\n",
    "from sklearn.neighbors import KNeighborsClassifier\n",
    "from sklearn.datasets import fetch_mldata\n",
    "from sklearn import preprocessing\n",
    "from sklearn.feature_selection import SelectPercentile\n",
    "from sklearn.linear_model import LinearRegression\n",
    "import math\n",
    "#loading the data and looking at it\n",
    "fire=pd.read_csv(os.path.join(\"forestfires.csv\"))\n",
    "print(fire)"
   ]
  },
  {
   "cell_type": "code",
   "execution_count": 51,
   "metadata": {},
   "outputs": [
    {
     "name": "stdout",
     "output_type": "stream",
     "text": [
      "0       0.00\n",
      "1       0.00\n",
      "2       0.00\n",
      "3       0.00\n",
      "4       0.00\n",
      "5       0.00\n",
      "6       0.00\n",
      "7       0.00\n",
      "8       0.00\n",
      "9       0.00\n",
      "10      0.00\n",
      "11      0.00\n",
      "12      0.00\n",
      "13      0.00\n",
      "14      0.00\n",
      "15      0.00\n",
      "16      0.00\n",
      "17      0.00\n",
      "18      0.00\n",
      "19      0.00\n",
      "20      0.00\n",
      "21      0.00\n",
      "22      0.00\n",
      "23      0.00\n",
      "24      0.00\n",
      "25      0.00\n",
      "26      0.00\n",
      "27      0.00\n",
      "28      0.00\n",
      "29      0.00\n",
      "       ...  \n",
      "487    16.40\n",
      "488    46.70\n",
      "489     0.00\n",
      "490     0.00\n",
      "491     0.00\n",
      "492     0.00\n",
      "493    43.32\n",
      "494     8.59\n",
      "495     0.00\n",
      "496     2.77\n",
      "497    14.68\n",
      "498    40.54\n",
      "499    10.82\n",
      "500     0.00\n",
      "501     0.00\n",
      "502     0.00\n",
      "503     1.95\n",
      "504    49.59\n",
      "505     5.80\n",
      "506     0.00\n",
      "507     0.00\n",
      "508     0.00\n",
      "509     2.17\n",
      "510     0.43\n",
      "511     0.00\n",
      "512     6.44\n",
      "513    54.29\n",
      "514    11.16\n",
      "515     0.00\n",
      "516     0.00\n",
      "Name: area, Length: 517, dtype: float64\n"
     ]
    }
   ],
   "source": [
    "#gettting the label\n",
    "y=fire.iloc[:,-1]\n",
    "print(label)"
   ]
  },
  {
   "cell_type": "code",
   "execution_count": 54,
   "metadata": {},
   "outputs": [
    {
     "data": {
      "text/plain": [
       "[<matplotlib.lines.Line2D at 0x7fa877c169b0>]"
      ]
     },
     "execution_count": 54,
     "metadata": {},
     "output_type": "execute_result"
    },
    {
     "data": {
      "image/png": "[encoded data removed]",
      "text/plain": [
       "<matplotlib.figure.Figure at 0x7fa877d1ee10>"
      ]
     },
     "metadata": {},
     "output_type": "display_data"
    }
   ],
   "source": [
    "#examining the features as neee\n",
    "area=fire.iloc[:,-1]\n",
    "ffmc=fire.iloc[:,0]\n",
    "dmc=fire.iloc[:,1]\n",
    "dc=fire.iloc[:,2]\n",
    "isi=fire.iloc[:,3]\n",
    "temp=fire.iloc[:,4]\n",
    "RH=fire.iloc[:,5]\n",
    "wind=fire.iloc[:,6]\n",
    "rain=fire.iloc[:,7]\n",
    "plt.plot(area)\n",
    "#plt.plot(ffmc)\n",
    "#plt.plot(dmc)\n",
    "#plt.plot(dc)\n",
    "#plt.plot(temp)\n",
    "#plt.plot(RH)\n",
    "#plt.plot(wind)\n",
    "#plt.plot(rain)\n"
   ]
  },
  {
   "cell_type": "code",
   "execution_count": 55,
   "metadata": {
    "collapsed": true
   },
   "outputs": [],
   "source": [
    "X=fire.iloc[:,:-1]\n",
    "y=fire.iloc[:,-1]"
   ]
  },
  {
   "cell_type": "code",
   "execution_count": 108,
   "metadata": {},
   "outputs": [
    {
     "name": "stdout",
     "output_type": "stream",
     "text": [
      "the mean squared error is 97.21318939693785 hectare(s)\n"
     ]
    }
   ],
   "source": [
    "X_train,X_test,y_train,y_test=train_test_split(X, y, test_size=0.25, random_state=42)\n",
    "from sklearn.linear_model import Lasso\n",
    "from sklearn.metrics import mean_squared_error\n",
    "lasso = Lasso(alpha=.00000000000001, max_iter=1000000).fit(X_train, y_train)\n",
    "pred=lasso.predict(X_test)\n",
    "print(\"the mean squared error is\",math.sqrt(mean_squared_error(y_test, pred)), \"hectare(s)\")"
   ]
  },
  {
   "cell_type": "markdown",
   "metadata": {},
   "source": []
  }
 ],
 "metadata": {
  "kernelspec": {
   "display_name": "Python 3",
   "language": "python",
   "name": "python3"
  },
  "language_info": {
   "codemirror_mode": {
    "name": "ipython",
    "version": 3
   },
   "file_extension": ".py",
   "mimetype": "text/x-python",
   "name": "python",
   "nbconvert_exporter": "python",
   "pygments_lexer": "ipython3",
   "version": "3.6.1"
  }
 },
 "nbformat": 4,
 "nbformat_minor": 2
}
